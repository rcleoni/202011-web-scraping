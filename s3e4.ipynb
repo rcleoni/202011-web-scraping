{
  "nbformat": 4,
  "nbformat_minor": 0,
  "metadata": {
    "colab": {
      "provenance": [],
      "authorship_tag": "ABX9TyNlOYqUTqqw/to3hC+T6XnI",
      "include_colab_link": true
    },
    "kernelspec": {
      "name": "python3",
      "display_name": "Python 3"
    },
    "language_info": {
      "name": "python"
    }
  },
  "cells": [
    {
      "cell_type": "markdown",
      "metadata": {
        "id": "view-in-github",
        "colab_type": "text"
      },
      "source": [
        "<a href=\"https://colab.research.google.com/github/rcleoni/202011-web-scraping/blob/master/s3e4.ipynb\" target=\"_parent\"><img src=\"https://colab.research.google.com/assets/colab-badge.svg\" alt=\"Open In Colab\"/></a>"
      ]
    },
    {
      "cell_type": "code",
      "source": [
        "6+3\n"
      ],
      "metadata": {
        "colab": {
          "base_uri": "https://localhost:8080/"
        },
        "id": "RS5PH_XI1Cef",
        "outputId": "55fdb55d-6ec9-4f35-e0fe-30043a08ace1"
      },
      "execution_count": 1,
      "outputs": [
        {
          "output_type": "execute_result",
          "data": {
            "text/plain": [
              "9"
            ]
          },
          "metadata": {},
          "execution_count": 1
        }
      ]
    },
    {
      "cell_type": "code",
      "source": [
        "6-3"
      ],
      "metadata": {
        "colab": {
          "base_uri": "https://localhost:8080/"
        },
        "id": "h9NRYuBX1s3p",
        "outputId": "a7c024e9-a18a-42de-afe5-44b98c3a25f4"
      },
      "execution_count": 2,
      "outputs": [
        {
          "output_type": "execute_result",
          "data": {
            "text/plain": [
              "3"
            ]
          },
          "metadata": {},
          "execution_count": 2
        }
      ]
    },
    {
      "cell_type": "code",
      "source": [
        "6*3"
      ],
      "metadata": {
        "colab": {
          "base_uri": "https://localhost:8080/"
        },
        "id": "IgqCZFc91utI",
        "outputId": "83bc4fe3-c392-46d2-d28d-364b91eb8a04"
      },
      "execution_count": 3,
      "outputs": [
        {
          "output_type": "execute_result",
          "data": {
            "text/plain": [
              "18"
            ]
          },
          "metadata": {},
          "execution_count": 3
        }
      ]
    },
    {
      "cell_type": "code",
      "source": [
        "6/3"
      ],
      "metadata": {
        "colab": {
          "base_uri": "https://localhost:8080/"
        },
        "id": "zHTJA-S81vyC",
        "outputId": "ee3903a4-d8d4-47b8-a9ec-477ccbc2a5f0"
      },
      "execution_count": 4,
      "outputs": [
        {
          "output_type": "execute_result",
          "data": {
            "text/plain": [
              "2.0"
            ]
          },
          "metadata": {},
          "execution_count": 4
        }
      ]
    },
    {
      "cell_type": "code",
      "source": [
        "3 * (12 + ((3 + 2) - 5 * 3) * 5)"
      ],
      "metadata": {
        "colab": {
          "base_uri": "https://localhost:8080/"
        },
        "id": "KXYbylEg1wbO",
        "outputId": "ae81ffde-9855-467f-8642-33e0278e051a"
      },
      "execution_count": 5,
      "outputs": [
        {
          "output_type": "execute_result",
          "data": {
            "text/plain": [
              "-114"
            ]
          },
          "metadata": {},
          "execution_count": 5
        }
      ]
    },
    {
      "cell_type": "code",
      "source": [
        "a = 6 + 3"
      ],
      "metadata": {
        "id": "3EL6gAQy1wpV"
      },
      "execution_count": 6,
      "outputs": []
    },
    {
      "cell_type": "code",
      "source": [
        "b = 6 - 3"
      ],
      "metadata": {
        "id": "pEQNSEbc1w0T"
      },
      "execution_count": 9,
      "outputs": []
    },
    {
      "cell_type": "code",
      "source": [
        "c = 6 * 3\n"
      ],
      "metadata": {
        "id": "E0evXiuO1w9v"
      },
      "execution_count": 10,
      "outputs": []
    },
    {
      "cell_type": "code",
      "source": [
        "d = 6 / 3"
      ],
      "metadata": {
        "id": "16Y37Cck2HdW"
      },
      "execution_count": 11,
      "outputs": []
    },
    {
      "cell_type": "code",
      "source": [
        "print(a)"
      ],
      "metadata": {
        "colab": {
          "base_uri": "https://localhost:8080/"
        },
        "id": "nNyIO3902HrX",
        "outputId": "b3f5d9bd-58be-401f-84f7-ee1b1d11b87c"
      },
      "execution_count": 12,
      "outputs": [
        {
          "output_type": "stream",
          "name": "stdout",
          "text": [
            "9\n"
          ]
        }
      ]
    },
    {
      "cell_type": "code",
      "source": [
        "print(b)"
      ],
      "metadata": {
        "colab": {
          "base_uri": "https://localhost:8080/"
        },
        "id": "xyu0F-oo2H1V",
        "outputId": "f0dd7fb0-132c-4301-f900-1ebbdd8cdcf3"
      },
      "execution_count": 13,
      "outputs": [
        {
          "output_type": "stream",
          "name": "stdout",
          "text": [
            "3\n"
          ]
        }
      ]
    },
    {
      "cell_type": "code",
      "source": [
        "print(a + b)\n",
        "print(3 * b)\n",
        "print(3 * a + 2 * b + 5 * c + 4 * d)"
      ],
      "metadata": {
        "colab": {
          "base_uri": "https://localhost:8080/"
        },
        "id": "mkxJSTu32H_B",
        "outputId": "f02d8a1a-3f7e-4fd1-aa77-7336fae8a975"
      },
      "execution_count": 14,
      "outputs": [
        {
          "output_type": "stream",
          "name": "stdout",
          "text": [
            "12\n",
            "9\n",
            "131.0\n"
          ]
        }
      ]
    },
    {
      "cell_type": "code",
      "source": [
        "a = float(22/5)\n",
        "b = int(4.5)\n",
        "c = int(3.9)\n",
        "print(a)\n",
        "print(b)\n",
        "print(c)"
      ],
      "metadata": {
        "colab": {
          "base_uri": "https://localhost:8080/"
        },
        "id": "9W1eSa5P2Xl6",
        "outputId": "459ae9a1-2a4c-4b1b-844b-091f900512eb"
      },
      "execution_count": 16,
      "outputs": [
        {
          "output_type": "stream",
          "name": "stdout",
          "text": [
            "4.4\n",
            "4\n",
            "3\n"
          ]
        }
      ]
    },
    {
      "cell_type": "code",
      "source": [
        "print(a + b)"
      ],
      "metadata": {
        "colab": {
          "base_uri": "https://localhost:8080/"
        },
        "id": "nFjY-M8G2ag-",
        "outputId": "36995c7a-2054-44c4-d7b8-508d92533aee"
      },
      "execution_count": 17,
      "outputs": [
        {
          "output_type": "stream",
          "name": "stdout",
          "text": [
            "8.4\n"
          ]
        }
      ]
    },
    {
      "cell_type": "code",
      "source": [
        "type(a + b)"
      ],
      "metadata": {
        "colab": {
          "base_uri": "https://localhost:8080/"
        },
        "id": "V5FkuR-N2arh",
        "outputId": "b7455619-3a6c-4c19-f2b2-176e68317fd4"
      },
      "execution_count": 18,
      "outputs": [
        {
          "output_type": "execute_result",
          "data": {
            "text/plain": [
              "float"
            ]
          },
          "metadata": {},
          "execution_count": 18
        }
      ]
    },
    {
      "cell_type": "code",
      "source": [
        "operador_bool_verdadeiro = True\n",
        "operador_bool_falso = False"
      ],
      "metadata": {
        "id": "GjXC9ie_2ayK"
      },
      "execution_count": 21,
      "outputs": []
    },
    {
      "cell_type": "code",
      "source": [
        "a = 3\n",
        "b = 5\n",
        "print(a > b)\n",
        "print(a == (b - 2))\n",
        "print((a * 5) != (b * 3))"
      ],
      "metadata": {
        "colab": {
          "base_uri": "https://localhost:8080/"
        },
        "id": "bf4FOVtZ2a1D",
        "outputId": "e9b02b03-2f38-4f74-f852-86d9f4f80f15"
      },
      "execution_count": 22,
      "outputs": [
        {
          "output_type": "stream",
          "name": "stdout",
          "text": [
            "False\n",
            "True\n",
            "False\n"
          ]
        }
      ]
    },
    {
      "cell_type": "code",
      "source": [
        "string_aspas_simples = 'ciencia de dados'\n",
        "string_aspas_duplas = \"ciencia de dados\"\n",
        "print(string_aspas_simples)\n",
        "print(string_aspas_duplas)"
      ],
      "metadata": {
        "colab": {
          "base_uri": "https://localhost:8080/"
        },
        "id": "OpctsSAi2a3p",
        "outputId": "bb7b410e-1c19-4a54-fd41-f7f58de518f9"
      },
      "execution_count": 23,
      "outputs": [
        {
          "output_type": "stream",
          "name": "stdout",
          "text": [
            "ciencia de dados\n",
            "ciencia de dados\n"
          ]
        }
      ]
    },
    {
      "cell_type": "code",
      "source": [
        "nome = 'Dino'\n",
        "sobrenome = \"da Silva Sauro\"\n",
        "idade = 43\n",
        "print(nome + sobrenome + idade)"
      ],
      "metadata": {
        "colab": {
          "base_uri": "https://localhost:8080/",
          "height": 179
        },
        "id": "G2c6uh-f2a50",
        "outputId": "89021b74-7462-4a99-f6b9-deb2c240f262"
      },
      "execution_count": 26,
      "outputs": [
        {
          "output_type": "error",
          "ename": "TypeError",
          "evalue": "can only concatenate str (not \"int\") to str",
          "traceback": [
            "\u001b[0;31m---------------------------------------------------------------------------\u001b[0m",
            "\u001b[0;31mTypeError\u001b[0m                                 Traceback (most recent call last)",
            "\u001b[0;32m<ipython-input-26-40598f558761>\u001b[0m in \u001b[0;36m<cell line: 0>\u001b[0;34m()\u001b[0m\n\u001b[1;32m      2\u001b[0m \u001b[0msobrenome\u001b[0m \u001b[0;34m=\u001b[0m \u001b[0;34m\"da Silva Sauro\"\u001b[0m\u001b[0;34m\u001b[0m\u001b[0;34m\u001b[0m\u001b[0m\n\u001b[1;32m      3\u001b[0m \u001b[0midade\u001b[0m \u001b[0;34m=\u001b[0m \u001b[0;36m43\u001b[0m\u001b[0;34m\u001b[0m\u001b[0;34m\u001b[0m\u001b[0m\n\u001b[0;32m----> 4\u001b[0;31m \u001b[0mprint\u001b[0m\u001b[0;34m(\u001b[0m\u001b[0mnome\u001b[0m \u001b[0;34m+\u001b[0m \u001b[0msobrenome\u001b[0m \u001b[0;34m+\u001b[0m \u001b[0midade\u001b[0m\u001b[0;34m)\u001b[0m\u001b[0;34m\u001b[0m\u001b[0;34m\u001b[0m\u001b[0m\n\u001b[0m",
            "\u001b[0;31mTypeError\u001b[0m: can only concatenate str (not \"int\") to str"
          ]
        }
      ]
    },
    {
      "cell_type": "code",
      "source": [
        "print(f\"Nome completo: {nome} {sobrenome}. Idade: {idade}\")"
      ],
      "metadata": {
        "colab": {
          "base_uri": "https://localhost:8080/"
        },
        "id": "I__8hDIq2X02",
        "outputId": "68366da0-c622-48b0-bf32-d21e7e7c6798"
      },
      "execution_count": 27,
      "outputs": [
        {
          "output_type": "stream",
          "name": "stdout",
          "text": [
            "Nome completo: Dino da Silva Sauro. Idade: 43\n"
          ]
        }
      ]
    },
    {
      "cell_type": "code",
      "source": [
        "# Nome do cliente\n",
        "nome = 'Dino'\n",
        "# Sobrenome do cliente\n",
        "sobrenome = \"da Silva Sauro\"\n",
        "# Idade do cliente\n",
        "idade = 43 # valor numerico\n",
        "# Imprimindo um texto na tela\n",
        "print(f\"Nome completo: {nome} {sobrenome}. Idade: {idade}\")"
      ],
      "metadata": {
        "colab": {
          "base_uri": "https://localhost:8080/"
        },
        "id": "NQj1fTBe2X_M",
        "outputId": "9038a524-591f-4b71-c5b6-333b8e099984"
      },
      "execution_count": 28,
      "outputs": [
        {
          "output_type": "stream",
          "name": "stdout",
          "text": [
            "Nome completo: Dino da Silva Sauro. Idade: 43\n"
          ]
        }
      ]
    },
    {
      "cell_type": "code",
      "source": [
        "# Funcao que calcula o dobro de um numero\n",
        "def dobro(x):\n",
        "  \"\"\"Insira aqui um texto documental (opcional) que explique o que a funcao faz. Por exemplo, esta funcao multiplica sua\n",
        "  entrada por 2.\n",
        "  \"\"\"\n",
        "  return x * 2"
      ],
      "metadata": {
        "id": "1wFSf2Xu2YIT"
      },
      "execution_count": 32,
      "outputs": []
    },
    {
      "cell_type": "code",
      "source": [
        "# Testando a nova funcao\n",
        "print(dobro(5))\n",
        "print(dobro(-5))\n",
        "print(dobro(.5))"
      ],
      "metadata": {
        "colab": {
          "base_uri": "https://localhost:8080/"
        },
        "id": "Lx5jsoFg2YRg",
        "outputId": "30045bc2-5a5f-48d3-ab39-ab36ae9fa5c4"
      },
      "execution_count": 33,
      "outputs": [
        {
          "output_type": "stream",
          "name": "stdout",
          "text": [
            "10\n",
            "-10\n",
            "1.0\n"
          ]
        }
      ]
    },
    {
      "cell_type": "code",
      "source": [
        "# Funcao que calcula o salario anual\n",
        "def salario_anual(salario_mensal):\n",
        "  \"\"\"Funcao que calcula o salario anual (considerando o 13o salario) \"\"\"\n",
        "  return print(f\"O salario anual e de R$ {salario_mensal * 13}\")"
      ],
      "metadata": {
        "id": "vTC1kyid2YZ8"
      },
      "execution_count": 34,
      "outputs": []
    },
    {
      "cell_type": "code",
      "source": [
        "# Teste\n",
        "salario_anual(2500)"
      ],
      "metadata": {
        "colab": {
          "base_uri": "https://localhost:8080/"
        },
        "id": "uTlLJxZX2Yin",
        "outputId": "32b52ace-bbff-42c4-dd1c-e0802e1c2927"
      },
      "execution_count": 35,
      "outputs": [
        {
          "output_type": "stream",
          "name": "stdout",
          "text": [
            "O salario anual e de R$ 32500\n"
          ]
        }
      ]
    },
    {
      "cell_type": "code",
      "source": [
        "# Funcao que escreve o nome completo do cliente\n",
        "def nome_completo(nome = \"Nome\", sobrenome = \"Sobrenome\"):\n",
        "  return nome + \" \" + sobrenome"
      ],
      "metadata": {
        "id": "worC2q6s39NL"
      },
      "execution_count": 36,
      "outputs": []
    },
    {
      "cell_type": "code",
      "source": [
        "# Testes\n",
        "print(nome_completo('Dino', 'da Silva Sauro')) # 'Dino da Silva Sauro'"
      ],
      "metadata": {
        "colab": {
          "base_uri": "https://localhost:8080/"
        },
        "id": "_CtaT0O439b-",
        "outputId": "2410c841-94cb-46dd-d806-9d80701f19b9"
      },
      "execution_count": 37,
      "outputs": [
        {
          "output_type": "stream",
          "name": "stdout",
          "text": [
            "Dino da Silva Sauro\n"
          ]
        }
      ]
    },
    {
      "cell_type": "code",
      "source": [
        "print(nome_completo(sobrenome = 'da Silva Sauro', nome = 'Dino')) # 'Dino da Silva Sauro'"
      ],
      "metadata": {
        "colab": {
          "base_uri": "https://localhost:8080/"
        },
        "id": "FENFtXPa39er",
        "outputId": "3d349216-9851-4858-ad49-80a06d2472a6"
      },
      "execution_count": 39,
      "outputs": [
        {
          "output_type": "stream",
          "name": "stdout",
          "text": [
            "Dino da Silva Sauro\n"
          ]
        }
      ]
    },
    {
      "cell_type": "code",
      "source": [
        "print(nome_completo(sobrenome = 'da Silva Sauro')) # \"Nome da Silva Sauro\""
      ],
      "metadata": {
        "colab": {
          "base_uri": "https://localhost:8080/"
        },
        "id": "3BZ0h8NP39jz",
        "outputId": "30035d43-cc08-421f-8d43-6b920ead2756"
      },
      "execution_count": 40,
      "outputs": [
        {
          "output_type": "stream",
          "name": "stdout",
          "text": [
            "Nome da Silva Sauro\n"
          ]
        }
      ]
    },
    {
      "cell_type": "code",
      "source": [
        "########## Exemplo (Nao rode) !!!!!!\n",
        "if 1 > 2:\n",
        "  # Se 1 e maior que 2, faca...\n",
        "elif 1 > 3:\n",
        "  # 'elif' significa 'else if' (senao se...) [opcional]\n",
        "  # Se 1 e maior que 3, faca ...\n",
        "else:\n",
        "  # Caso todas as condicoes sejam falsas, faca... (opcional)"
      ],
      "metadata": {
        "colab": {
          "base_uri": "https://localhost:8080/",
          "height": 108
        },
        "id": "G8X4CYyA39mf",
        "outputId": "f0d42b76-a26b-4317-b6d8-d1f7c3d3e8ea"
      },
      "execution_count": 44,
      "outputs": [
        {
          "output_type": "error",
          "ename": "IndentationError",
          "evalue": "expected an indented block after 'if' statement on line 2 (<ipython-input-44-bca103510cbb>, line 4)",
          "traceback": [
            "\u001b[0;36m  File \u001b[0;32m\"<ipython-input-44-bca103510cbb>\"\u001b[0;36m, line \u001b[0;32m4\u001b[0m\n\u001b[0;31m    elif 1 > 3:\u001b[0m\n\u001b[0m    ^\u001b[0m\n\u001b[0;31mIndentationError\u001b[0m\u001b[0;31m:\u001b[0m expected an indented block after 'if' statement on line 2\n"
          ]
        }
      ]
    },
    {
      "cell_type": "code",
      "source": [
        "# Funcao que calcula o salario anual\n",
        "def salario_anual(salario_mensal):\n",
        "  \"\"\"Funcao que calcula o salario anual (considerando o 13o salario) \"\"\"\n",
        "  if salario_mensal > 0:\n",
        "      resultado = f\"O salario anual e de R$ {salario_mensal * 13}\"\n",
        "  else:\n",
        "      resultado = \"O salario deve ser um valor positivo\"\n",
        "  return print(resultado)"
      ],
      "metadata": {
        "id": "c2HbNQG-39pB"
      },
      "execution_count": 46,
      "outputs": []
    },
    {
      "cell_type": "code",
      "source": [
        "# Teste\n",
        "salario_anual(-2500)\n",
        "salario_anual(2500)"
      ],
      "metadata": {
        "colab": {
          "base_uri": "https://localhost:8080/"
        },
        "id": "2xLHixhe5QWa",
        "outputId": "a0976429-2c45-4960-d5bf-29cc35ecfab9"
      },
      "execution_count": 47,
      "outputs": [
        {
          "output_type": "stream",
          "name": "stdout",
          "text": [
            "O salario deve ser um valor positivo\n",
            "O salario anual e de R$ 32500\n"
          ]
        }
      ]
    },
    {
      "cell_type": "code",
      "source": [
        "# ERRO NO MATERIAL\n",
        "# range(k) e uma funcao que cria uma sequencia de 0 ate (k - 1).\n",
        "# Exemplo: range(10) sera a sequencia 0, 1, 2, ..., 9\n",
        "\n",
        "for x in range(10):\n",
        "  print (f\"{x} +  e menor do que 10\")"
      ],
      "metadata": {
        "colab": {
          "base_uri": "https://localhost:8080/"
        },
        "id": "FkqFl5N95QY2",
        "outputId": "a7b6a137-2f55-40a8-8ab2-01384f4b39e2"
      },
      "execution_count": 58,
      "outputs": [
        {
          "output_type": "stream",
          "name": "stdout",
          "text": [
            "0 +  e menor do que 10\n",
            "1 +  e menor do que 10\n",
            "2 +  e menor do que 10\n",
            "3 +  e menor do que 10\n",
            "4 +  e menor do que 10\n",
            "5 +  e menor do que 10\n",
            "6 +  e menor do que 10\n",
            "7 +  e menor do que 10\n",
            "8 +  e menor do que 10\n",
            "9 +  e menor do que 10\n"
          ]
        }
      ]
    },
    {
      "cell_type": "code",
      "source": [
        "lista_numeros = [1, 2, 3] # somente numeros (floats)"
      ],
      "metadata": {
        "id": "OCEUkyQK5Qbm"
      },
      "execution_count": 60,
      "outputs": []
    },
    {
      "cell_type": "code",
      "source": [
        "lista_mista = [\"string\", 0.1, True] # string, float, bool"
      ],
      "metadata": {
        "id": "-8IUJvOU2Yq3"
      },
      "execution_count": 61,
      "outputs": []
    },
    {
      "cell_type": "code",
      "source": [
        "# combinando as 2 listas anteriores com uma vazia\n",
        "lista_de_listas = [lista_numeros, lista_mista, []]"
      ],
      "metadata": {
        "id": "ubPC5DYe6-Jq"
      },
      "execution_count": 63,
      "outputs": []
    },
    {
      "cell_type": "code",
      "source": [
        "comprimento_lista = len(lista_numeros) # 3 elementos"
      ],
      "metadata": {
        "id": "gGQTg6IE6-SB"
      },
      "execution_count": 64,
      "outputs": []
    },
    {
      "cell_type": "code",
      "source": [
        "soma_lista = sum(lista_numeros) # 6 (soma dos elementos numericos)"
      ],
      "metadata": {
        "id": "AAnJjr9Y6-Uv"
      },
      "execution_count": 65,
      "outputs": []
    },
    {
      "cell_type": "code",
      "source": [
        "x = [0, 1, 2, 3, 4, 5, 6, 7, 8, 9]"
      ],
      "metadata": {
        "id": "A1o0VfO46-XX"
      },
      "execution_count": 66,
      "outputs": []
    },
    {
      "cell_type": "code",
      "source": [
        "zero = x[0] # primeiro elemento de x - listas comecam com indice zero!"
      ],
      "metadata": {
        "id": "lWGo5-146-Zt"
      },
      "execution_count": 67,
      "outputs": []
    },
    {
      "cell_type": "code",
      "source": [
        "um = x[1] # segundo elemento de x"
      ],
      "metadata": {
        "id": "_xvgMMsP6-cL"
      },
      "execution_count": 68,
      "outputs": []
    },
    {
      "cell_type": "code",
      "source": [
        "nove = x[-1] # ultimo elemento de x"
      ],
      "metadata": {
        "id": "exBRjCwZ6-fB"
      },
      "execution_count": 69,
      "outputs": []
    },
    {
      "cell_type": "code",
      "source": [
        "oito = x[-2] # penultimo elemento de x"
      ],
      "metadata": {
        "id": "0na9hcoJ7VTt"
      },
      "execution_count": 70,
      "outputs": []
    },
    {
      "cell_type": "code",
      "source": [
        "x[0] = -1 # agora x e [-1, 1, 2, 3, ..., 9]"
      ],
      "metadata": {
        "id": "ZWw4m0_L7VWv"
      },
      "execution_count": 71,
      "outputs": []
    },
    {
      "cell_type": "code",
      "source": [
        "primeiros_tres = x[:3] # [-1, 1, 2]"
      ],
      "metadata": {
        "id": "Nc05NIb-7VZJ"
      },
      "execution_count": 72,
      "outputs": []
    },
    {
      "cell_type": "code",
      "source": [
        "quarto_em_diante = x[3:] # [3, 4, ..., 9]"
      ],
      "metadata": {
        "id": "u799TcGh7Vbt"
      },
      "execution_count": 73,
      "outputs": []
    },
    {
      "cell_type": "code",
      "source": [
        "segundo_ate_quinto = x[1:5] # [1, 2, 3, 4]"
      ],
      "metadata": {
        "id": "Cej9Q0-K7hg9"
      },
      "execution_count": 74,
      "outputs": []
    },
    {
      "cell_type": "code",
      "source": [
        "ultimos_tres = x[-3:] # [7, 8, 9]"
      ],
      "metadata": {
        "id": "eSm0x-4a7hj0"
      },
      "execution_count": 75,
      "outputs": []
    },
    {
      "cell_type": "code",
      "source": [
        "sem_primeiro_e_ultimo = x[1:-1] # [1, 2, ..., 8]"
      ],
      "metadata": {
        "id": "GTXqAvtk7hmP"
      },
      "execution_count": 76,
      "outputs": []
    },
    {
      "cell_type": "code",
      "source": [
        "copia_de_x = x[:] # [-1, 1, 2, ..., 9]"
      ],
      "metadata": {
        "id": "Ty0Q-BJp7hoh"
      },
      "execution_count": 77,
      "outputs": []
    },
    {
      "cell_type": "code",
      "source": [
        "a_cada_tres = x[::3] # [-1, 3, 6, 9] -> primeiro, quarto, setimo..."
      ],
      "metadata": {
        "id": "uqzO5yAd7s9p"
      },
      "execution_count": 78,
      "outputs": []
    },
    {
      "cell_type": "code",
      "source": [
        "sexto_ao_quarto = x[5:2:-1] # [5, 4, 3]"
      ],
      "metadata": {
        "id": "Up2iZEKg7tAf"
      },
      "execution_count": 79,
      "outputs": []
    },
    {
      "cell_type": "code",
      "source": [
        "print(1 in [1, 2, 3]) # True"
      ],
      "metadata": {
        "colab": {
          "base_uri": "https://localhost:8080/"
        },
        "id": "ao2Sti287tDD",
        "outputId": "cd029847-8f71-4d54-f639-e65f6a5ece6a"
      },
      "execution_count": 80,
      "outputs": [
        {
          "output_type": "stream",
          "name": "stdout",
          "text": [
            "True\n"
          ]
        }
      ]
    },
    {
      "cell_type": "code",
      "source": [
        "print(0 in [1, 2, 3]) # False"
      ],
      "metadata": {
        "colab": {
          "base_uri": "https://localhost:8080/"
        },
        "id": "f0Y_Mv5n7tFs",
        "outputId": "164a9ca0-9db3-4526-9b3d-dc1327d8f0be"
      },
      "execution_count": 81,
      "outputs": [
        {
          "output_type": "stream",
          "name": "stdout",
          "text": [
            "False\n"
          ]
        }
      ]
    },
    {
      "cell_type": "code",
      "source": [
        "# Lista de clientes\n",
        "clientes = [\"Nero\", \"Atum\", \"Bois\", \"Alvares\"]"
      ],
      "metadata": {
        "id": "9KkkdjjV77Kv"
      },
      "execution_count": 82,
      "outputs": []
    },
    {
      "cell_type": "code",
      "source": [
        "#Iterando ID e nome dos clientes\n",
        "for id, nome in enumerate(clientes):\n",
        "  print(f\"O id {id} pertence ao cliente {nome}\")"
      ],
      "metadata": {
        "colab": {
          "base_uri": "https://localhost:8080/"
        },
        "id": "lyDO-OVc77Na",
        "outputId": "fad1165f-2754-4ccd-e6ad-dca79cb3cc38"
      },
      "execution_count": 84,
      "outputs": [
        {
          "output_type": "stream",
          "name": "stdout",
          "text": [
            "O id 0 pertence ao cliente Nero\n",
            "O id 1 pertence ao cliente Atum\n",
            "O id 2 pertence ao cliente Bois\n",
            "O id 3 pertence ao cliente Alvares\n"
          ]
        }
      ]
    },
    {
      "cell_type": "code",
      "source": [
        "# String\n",
        "info_cliente = \"Dino da Silva Sauro gosta de ler livros de ficcao cientifica\""
      ],
      "metadata": {
        "id": "jqVUsGF-77QP"
      },
      "execution_count": 85,
      "outputs": []
    },
    {
      "cell_type": "code",
      "source": [
        "# Metodo find: retorna em qual caracter se inicia a string 'Sauro'\n",
        "print(info_cliente.find('Sauro')) # 14\n",
        "print(info_cliente.find('Texto_inexistente')) # -1 (nao contem)"
      ],
      "metadata": {
        "colab": {
          "base_uri": "https://localhost:8080/"
        },
        "id": "BHJuCvIB7hqp",
        "outputId": "a93a4e4b-0dd0-4ba7-c7d8-3533f98afea5"
      },
      "execution_count": 86,
      "outputs": [
        {
          "output_type": "stream",
          "name": "stdout",
          "text": [
            "14\n",
            "-1\n"
          ]
        }
      ]
    },
    {
      "cell_type": "code",
      "source": [
        "# Metodo replace: substitui uma string por outra\n",
        "info_cliente.replace('Dino', 'Nome')\n",
        "# Note que o resultado nao e salvo\n",
        "print(info_cliente)"
      ],
      "metadata": {
        "colab": {
          "base_uri": "https://localhost:8080/"
        },
        "id": "4y3xwIYG8UGj",
        "outputId": "78e81bed-7aec-4f90-c9bc-f40bdea03087"
      },
      "execution_count": 88,
      "outputs": [
        {
          "output_type": "stream",
          "name": "stdout",
          "text": [
            "Dino da Silva Sauro gosta de ler livros de ficcao cientifica\n"
          ]
        }
      ]
    },
    {
      "cell_type": "code",
      "source": [
        "# Metodo split: cria uma lista separando cada string\n",
        "info_cliente.split()"
      ],
      "metadata": {
        "colab": {
          "base_uri": "https://localhost:8080/"
        },
        "id": "j36UHhl58UPi",
        "outputId": "69e68734-f3b0-49da-be9c-19e563ff5dd5"
      },
      "execution_count": 89,
      "outputs": [
        {
          "output_type": "execute_result",
          "data": {
            "text/plain": [
              "['Dino',\n",
              " 'da',\n",
              " 'Silva',\n",
              " 'Sauro',\n",
              " 'gosta',\n",
              " 'de',\n",
              " 'ler',\n",
              " 'livros',\n",
              " 'de',\n",
              " 'ficcao',\n",
              " 'cientifica']"
            ]
          },
          "metadata": {},
          "execution_count": 89
        }
      ]
    },
    {
      "cell_type": "code",
      "source": [
        "# Metodo upper: todas as letras maiusculas\n",
        "info_cliente.upper()"
      ],
      "metadata": {
        "colab": {
          "base_uri": "https://localhost:8080/",
          "height": 35
        },
        "id": "WHbRrdDV8USd",
        "outputId": "09a52727-6bed-4c48-e1a2-c82cb44add25"
      },
      "execution_count": 90,
      "outputs": [
        {
          "output_type": "execute_result",
          "data": {
            "text/plain": [
              "'DINO DA SILVA SAURO GOSTA DE LER LIVROS DE FICCAO CIENTIFICA'"
            ],
            "application/vnd.google.colaboratory.intrinsic+json": {
              "type": "string"
            }
          },
          "metadata": {},
          "execution_count": 90
        }
      ]
    },
    {
      "cell_type": "code",
      "source": [
        "# Metodo lower: todas as letras minusculas\n",
        "info_cliente.lower()"
      ],
      "metadata": {
        "colab": {
          "base_uri": "https://localhost:8080/",
          "height": 35
        },
        "id": "b9QkDEgc8UVS",
        "outputId": "a9ec37d4-0bfe-493e-f298-59ad525a2393"
      },
      "execution_count": 91,
      "outputs": [
        {
          "output_type": "execute_result",
          "data": {
            "text/plain": [
              "'dino da silva sauro gosta de ler livros de ficcao cientifica'"
            ],
            "application/vnd.google.colaboratory.intrinsic+json": {
              "type": "string"
            }
          },
          "metadata": {},
          "execution_count": 91
        }
      ]
    },
    {
      "cell_type": "code",
      "source": [
        "# Metodo strip: retira espacos em branco extra do inicio e final\n",
        "txt = \" muito espaco branco antes e depois           \"\n",
        "txt.strip()"
      ],
      "metadata": {
        "colab": {
          "base_uri": "https://localhost:8080/",
          "height": 35
        },
        "id": "htboi8gU8UXt",
        "outputId": "8f3684bd-3e82-4260-82a9-be634ffea804"
      },
      "execution_count": 93,
      "outputs": [
        {
          "output_type": "execute_result",
          "data": {
            "text/plain": [
              "'muito espaco branco antes e depois'"
            ],
            "application/vnd.google.colaboratory.intrinsic+json": {
              "type": "string"
            }
          },
          "metadata": {},
          "execution_count": 93
        }
      ]
    },
    {
      "cell_type": "code",
      "source": [
        "# Lista de clientes\n",
        "clientes = [\"Nero\", \"Atum\", \"Bois\", \"Alvares\"]\n"
      ],
      "metadata": {
        "id": "eHFDEI-i8UaP"
      },
      "execution_count": 95,
      "outputs": []
    },
    {
      "cell_type": "code",
      "source": [
        "\n",
        "# Metodo append: adiciona elementos ao fim da lista (um de cada vez)\n",
        "clientes.append(\"Teatro\")\n",
        "clientes.append(\"Zinco\")\n",
        "clientes.append(\"Ameis\")\n"
      ],
      "metadata": {
        "id": "0xEEdCVW8Uc2"
      },
      "execution_count": 97,
      "outputs": []
    },
    {
      "cell_type": "code",
      "source": [
        "# Note que este metodo ALTERA a lista original\n",
        "print(clientes)"
      ],
      "metadata": {
        "colab": {
          "base_uri": "https://localhost:8080/"
        },
        "id": "DpodVWdr81M7",
        "outputId": "07d453ec-63bb-4131-a3a5-17d787622032"
      },
      "execution_count": 98,
      "outputs": [
        {
          "output_type": "stream",
          "name": "stdout",
          "text": [
            "['Nero', 'Atum', 'Bois', 'Alvares', 'Teatro', 'Zinco', 'Ameis', 'Bete', 'Biscoito', 'Love', 'Teatro', 'Zinco', 'Ameis']\n"
          ]
        }
      ]
    },
    {
      "cell_type": "code",
      "source": [
        "# Metodo extend: adiciona uma lista ao fim da lista\n",
        "clientes.extend([\"Bete\", \"Biscoito\", \"Love\"])"
      ],
      "metadata": {
        "id": "5j4wtTug81SP"
      },
      "execution_count": 101,
      "outputs": []
    },
    {
      "cell_type": "code",
      "source": [
        "# Note que este metodo ALTERA a lista original\n",
        "print(clientes)"
      ],
      "metadata": {
        "colab": {
          "base_uri": "https://localhost:8080/"
        },
        "id": "o5bzkHz581Uy",
        "outputId": "40ced838-66a2-4a31-a331-9653b5a1088d"
      },
      "execution_count": 102,
      "outputs": [
        {
          "output_type": "stream",
          "name": "stdout",
          "text": [
            "['Nero', 'Atum', 'Bois', 'Alvares', 'Teatro', 'Zinco', 'Ameis', 'Bete', 'Biscoito', 'Love', 'Teatro', 'Zinco', 'Ameis', 'Bete', 'Biscoito', 'Love', 'Bete', 'Biscoito', 'Love', 'Bete', 'Biscoito', 'Love']\n"
          ]
        }
      ]
    },
    {
      "cell_type": "code",
      "source": [
        "# Metodo insert: adiciona um elemento em uma posicao especifica\n",
        "# Neste caso na TERCEIRA posicao (indice 2)\n",
        "clientes.insert(2, \"Intruso1\")"
      ],
      "metadata": {
        "id": "BR8SO7vX81Xd"
      },
      "execution_count": 103,
      "outputs": []
    },
    {
      "cell_type": "code",
      "source": [
        "# Neste caso na OITAVA posicao (indice 7)\n",
        "clientes.insert(7, \"Intruso2\")"
      ],
      "metadata": {
        "id": "4Vu_R1-R9BqJ"
      },
      "execution_count": 104,
      "outputs": []
    },
    {
      "cell_type": "code",
      "source": [
        "# Note que este metodo ALTERA a lista original\n",
        "print(clientes)"
      ],
      "metadata": {
        "colab": {
          "base_uri": "https://localhost:8080/"
        },
        "id": "lndBKLhI9BtV",
        "outputId": "723c2c57-0c95-4614-d704-f015f252ce27"
      },
      "execution_count": 105,
      "outputs": [
        {
          "output_type": "stream",
          "name": "stdout",
          "text": [
            "['Nero', 'Atum', 'Intruso1', 'Bois', 'Alvares', 'Teatro', 'Zinco', 'Intruso2', 'Ameis', 'Bete', 'Biscoito', 'Love', 'Teatro', 'Zinco', 'Ameis', 'Bete', 'Biscoito', 'Love', 'Bete', 'Biscoito', 'Love', 'Bete', 'Biscoito', 'Love']\n"
          ]
        }
      ]
    },
    {
      "cell_type": "code",
      "source": [
        "# Metodo index: retorna o indice de um elemento pre determinado\n",
        "print(clientes.index(\"Intruso1\"))\n",
        "print(clientes.index(\"Intruso2\"))"
      ],
      "metadata": {
        "colab": {
          "base_uri": "https://localhost:8080/"
        },
        "id": "Fy_8fZN49JQV",
        "outputId": "6167d55c-de6c-4198-ef75-df02a4e747db"
      },
      "execution_count": 106,
      "outputs": [
        {
          "output_type": "stream",
          "name": "stdout",
          "text": [
            "2\n",
            "7\n"
          ]
        }
      ]
    },
    {
      "cell_type": "code",
      "source": [
        "# Metodo pop: remove um elemento em uma posicao especifica\n",
        "clientes.pop(2)\n",
        "# Note que este metodo ALTERA a lista original\n",
        "print(clientes)"
      ],
      "metadata": {
        "colab": {
          "base_uri": "https://localhost:8080/"
        },
        "id": "ogfUClXi9OEy",
        "outputId": "4159d70f-d8a2-46db-8198-9d717516f6e9"
      },
      "execution_count": 107,
      "outputs": [
        {
          "output_type": "stream",
          "name": "stdout",
          "text": [
            "['Nero', 'Atum', 'Bois', 'Alvares', 'Teatro', 'Zinco', 'Intruso2', 'Ameis', 'Bete', 'Biscoito', 'Love', 'Teatro', 'Zinco', 'Ameis', 'Bete', 'Biscoito', 'Love', 'Bete', 'Biscoito', 'Love', 'Bete', 'Biscoito', 'Love']\n"
          ]
        }
      ]
    },
    {
      "cell_type": "code",
      "source": [
        "# Metodo remove: remove um elemento pre determinado\n",
        "clientes.remove(\"Intruso2\")\n",
        "# Note que este metodo ALTERA a lista original\n",
        "print(clientes)"
      ],
      "metadata": {
        "colab": {
          "base_uri": "https://localhost:8080/"
        },
        "id": "GvoH91Yn9OHV",
        "outputId": "23ebcce4-9d7f-451a-ddd4-a0f9638f77ea"
      },
      "execution_count": 108,
      "outputs": [
        {
          "output_type": "stream",
          "name": "stdout",
          "text": [
            "['Nero', 'Atum', 'Bois', 'Alvares', 'Teatro', 'Zinco', 'Ameis', 'Bete', 'Biscoito', 'Love', 'Teatro', 'Zinco', 'Ameis', 'Bete', 'Biscoito', 'Love', 'Bete', 'Biscoito', 'Love', 'Bete', 'Biscoito', 'Love']\n"
          ]
        }
      ]
    },
    {
      "cell_type": "code",
      "source": [
        "# Metodo reverse: inverte a ordem da lista\n",
        "clientes.reverse()\n",
        "# Note que este metodo ALTERA a lista original\n",
        "print(clientes)"
      ],
      "metadata": {
        "colab": {
          "base_uri": "https://localhost:8080/"
        },
        "id": "dfWpc9Zu9OJ9",
        "outputId": "aa960a28-09f6-4ea3-8b37-e84cc70f2113"
      },
      "execution_count": 109,
      "outputs": [
        {
          "output_type": "stream",
          "name": "stdout",
          "text": [
            "['Love', 'Biscoito', 'Bete', 'Love', 'Biscoito', 'Bete', 'Love', 'Biscoito', 'Bete', 'Ameis', 'Zinco', 'Teatro', 'Love', 'Biscoito', 'Bete', 'Ameis', 'Zinco', 'Teatro', 'Alvares', 'Bois', 'Atum', 'Nero']\n"
          ]
        }
      ]
    },
    {
      "cell_type": "code",
      "source": [
        "# Metodo sort: ordena a lista\n",
        "clientes.sort()\n",
        "# Note que este metodo ALTERA a lista original\n",
        "print(clientes) # Para strings, a ordem e alfabetica"
      ],
      "metadata": {
        "colab": {
          "base_uri": "https://localhost:8080/"
        },
        "id": "8ptpaIhn9JTa",
        "outputId": "945eaee8-7b72-406e-b852-2cb60eb1ec6f"
      },
      "execution_count": 110,
      "outputs": [
        {
          "output_type": "stream",
          "name": "stdout",
          "text": [
            "['Alvares', 'Ameis', 'Ameis', 'Atum', 'Bete', 'Bete', 'Bete', 'Bete', 'Biscoito', 'Biscoito', 'Biscoito', 'Biscoito', 'Bois', 'Love', 'Love', 'Love', 'Love', 'Nero', 'Teatro', 'Teatro', 'Zinco', 'Zinco']\n"
          ]
        }
      ]
    },
    {
      "cell_type": "code",
      "source": [
        "numeros = [2, 5, 1, 3, 4, 8, 10]\n",
        "print(numeros)"
      ],
      "metadata": {
        "colab": {
          "base_uri": "https://localhost:8080/"
        },
        "id": "tIQ4sFJi9b1f",
        "outputId": "a5ade7e9-f40f-4c07-94a4-c7949f0abd25"
      },
      "execution_count": 111,
      "outputs": [
        {
          "output_type": "stream",
          "name": "stdout",
          "text": [
            "[2, 5, 1, 3, 4, 8, 10]\n"
          ]
        }
      ]
    },
    {
      "cell_type": "code",
      "source": [
        "numeros.sort()\n",
        "print(numeros) # Para numeros, a ordem e crescente"
      ],
      "metadata": {
        "colab": {
          "base_uri": "https://localhost:8080/"
        },
        "id": "UJasq6r49b4J",
        "outputId": "4d0d26a4-fcf2-43f0-d43e-1a1232165560"
      },
      "execution_count": 112,
      "outputs": [
        {
          "output_type": "stream",
          "name": "stdout",
          "text": [
            "[1, 2, 3, 4, 5, 8, 10]\n"
          ]
        }
      ]
    },
    {
      "cell_type": "code",
      "source": [
        "numeros.sort(reverse = True)\n",
        "print(numeros) # Ou decrescente"
      ],
      "metadata": {
        "colab": {
          "base_uri": "https://localhost:8080/"
        },
        "id": "FHIGsOTz9i3J",
        "outputId": "cc8eced3-afdc-46f7-84cf-e8743c63cd6c"
      },
      "execution_count": 113,
      "outputs": [
        {
          "output_type": "stream",
          "name": "stdout",
          "text": [
            "[10, 8, 5, 4, 3, 2, 1]\n"
          ]
        }
      ]
    },
    {
      "cell_type": "code",
      "source": [
        "# Lista de interesses\n",
        "interesses = [\"Python\", \"Matematica\", \"IA\", \"IA\", \"Python\", \"Dados\", \"IA\"]\n",
        "# Metodo count: retorna a contagem de determinado elemento\n",
        "print(interesses.count(\"Python\"))\n",
        "print(interesses.count(\"IA\"))\n",
        "print(interesses.count(\"Dados\"))"
      ],
      "metadata": {
        "colab": {
          "base_uri": "https://localhost:8080/"
        },
        "id": "hD_KRLMx9jAx",
        "outputId": "c77f4bc9-47d9-4869-eecb-2b09c35a4a60"
      },
      "execution_count": 114,
      "outputs": [
        {
          "output_type": "stream",
          "name": "stdout",
          "text": [
            "2\n",
            "3\n",
            "1\n"
          ]
        }
      ]
    },
    {
      "cell_type": "code",
      "source": [
        "# Metodo clear: limpa a lista\n",
        "interesses.clear()\n",
        "# Note que este metodo ALTERA a lista original\n",
        "print(interesses)"
      ],
      "metadata": {
        "colab": {
          "base_uri": "https://localhost:8080/"
        },
        "id": "esjnIu-F9jDd",
        "outputId": "2aaa1b01-d19e-446b-f582-ced224565985"
      },
      "execution_count": 115,
      "outputs": [
        {
          "output_type": "stream",
          "name": "stdout",
          "text": [
            "[]\n"
          ]
        }
      ]
    },
    {
      "cell_type": "code",
      "source": [
        "# Metodo copy: retorna uma copia da lista\n",
        "clientes_novo = clientes.copy()\n",
        "# Adicionando um registro na nova lista\n",
        "clientes_novo.insert(0, \"Intruso3\")\n",
        "# Comparando\n",
        "print(clientes)\n",
        "print(clientes_novo)"
      ],
      "metadata": {
        "colab": {
          "base_uri": "https://localhost:8080/"
        },
        "id": "9Y-6BJ6I9jGQ",
        "outputId": "015a9d79-56eb-443c-e02a-3cb4ff07c09d"
      },
      "execution_count": 116,
      "outputs": [
        {
          "output_type": "stream",
          "name": "stdout",
          "text": [
            "['Alvares', 'Ameis', 'Ameis', 'Atum', 'Bete', 'Bete', 'Bete', 'Bete', 'Biscoito', 'Biscoito', 'Biscoito', 'Biscoito', 'Bois', 'Love', 'Love', 'Love', 'Love', 'Nero', 'Teatro', 'Teatro', 'Zinco', 'Zinco']\n",
            "['Intruso3', 'Alvares', 'Ameis', 'Ameis', 'Atum', 'Bete', 'Bete', 'Bete', 'Bete', 'Biscoito', 'Biscoito', 'Biscoito', 'Biscoito', 'Bois', 'Love', 'Love', 'Love', 'Love', 'Nero', 'Teatro', 'Teatro', 'Zinco', 'Zinco']\n"
          ]
        }
      ]
    },
    {
      "cell_type": "code",
      "source": [
        "# Importando modulo\n",
        "# (ou carregando biblioteca)\n",
        "# (ou carregando pacote)\n",
        "import statistics\n",
        "print(statistics.mean([1, 2, 3, 4, 5]))"
      ],
      "metadata": {
        "colab": {
          "base_uri": "https://localhost:8080/"
        },
        "id": "yHBSdxuG9jI9",
        "outputId": "28f0516f-74f8-4a89-c649-9891de072703"
      },
      "execution_count": 117,
      "outputs": [
        {
          "output_type": "stream",
          "name": "stdout",
          "text": [
            "3\n"
          ]
        }
      ]
    },
    {
      "cell_type": "code",
      "source": [
        "import statistics as stats\n",
        "print(stats.mean([1, 2, 3, 4, 5]))"
      ],
      "metadata": {
        "colab": {
          "base_uri": "https://localhost:8080/"
        },
        "id": "n6N2rsNS-DdK",
        "outputId": "c7b57e99-c361-40de-cb6f-c7a510e95b45"
      },
      "execution_count": 118,
      "outputs": [
        {
          "output_type": "stream",
          "name": "stdout",
          "text": [
            "3\n"
          ]
        }
      ]
    },
    {
      "cell_type": "code",
      "source": [
        "import pandas as pd\n",
        "import matplotlib.pyplot as plt\n",
        "# Exemplos de uso\n",
        "# pd.read_excel(...)\n",
        "# plt.plot(...)"
      ],
      "metadata": {
        "id": "EqeaVa88-Dij"
      },
      "execution_count": 120,
      "outputs": []
    },
    {
      "cell_type": "code",
      "source": [
        "from math import ceil\n",
        "# Exemplos de uso\n",
        "# (sem necessidade de escrever 'math' antes da funcao 'ceil')\n",
        "ceil(5.8)"
      ],
      "metadata": {
        "colab": {
          "base_uri": "https://localhost:8080/"
        },
        "id": "07mm3rDD-Dlr",
        "outputId": "8b7aedf7-2753-4d39-fcce-509618ec41f7"
      },
      "execution_count": 121,
      "outputs": [
        {
          "output_type": "execute_result",
          "data": {
            "text/plain": [
              "6"
            ]
          },
          "metadata": {},
          "execution_count": 121
        }
      ]
    },
    {
      "cell_type": "code",
      "source": [
        "prod = 10\n",
        "from math import * # opa, 'math' tem uma funcao que se chama 'prod'\n",
        "print(prod) # \"<built-in function prod>\""
      ],
      "metadata": {
        "colab": {
          "base_uri": "https://localhost:8080/"
        },
        "id": "BAFY7CLG-Doj",
        "outputId": "fa60e91a-50b6-459f-e088-4ece40dcaa91"
      },
      "execution_count": 122,
      "outputs": [
        {
          "output_type": "stream",
          "name": "stdout",
          "text": [
            "<built-in function prod>\n"
          ]
        }
      ]
    },
    {
      "cell_type": "code",
      "source": [],
      "metadata": {
        "id": "F066xkpp-W4P"
      },
      "execution_count": null,
      "outputs": []
    },
    {
      "cell_type": "code",
      "source": [],
      "metadata": {
        "id": "04OWA1bM-W9v"
      },
      "execution_count": null,
      "outputs": []
    },
    {
      "cell_type": "code",
      "source": [],
      "metadata": {
        "id": "nU5dAfoz-XAt"
      },
      "execution_count": null,
      "outputs": []
    }
  ]
}